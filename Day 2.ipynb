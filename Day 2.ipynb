{
 "cells": [
  {
   "cell_type": "code",
   "execution_count": null,
   "metadata": {},
   "outputs": [],
   "source": [
    "a=10\n",
    "b=20\n",
    "a+b"
   ]
  },
  {
   "cell_type": "code",
   "execution_count": null,
   "metadata": {},
   "outputs": [],
   "source": [
    "a=\"Helo world\"\n",
    "type(a)"
   ]
  },
  {
   "cell_type": "code",
   "execution_count": null,
   "metadata": {},
   "outputs": [],
   "source": [
    "a=\"10\"\n",
    "type(a)"
   ]
  },
  {
   "cell_type": "code",
   "execution_count": null,
   "metadata": {},
   "outputs": [],
   "source": [
    "a=\"10\"\n",
    "b=int(a)\n",
    "type(b)"
   ]
  },
  {
   "cell_type": "markdown",
   "metadata": {},
   "source": [
    "# History Of python\n",
    "## Monty  `Python` fly circus\n",
    "+ In 1989 started implemented of python with version 0.9\n",
    "+ In 1991 Implemented 1.0 version with features of lambda, map,filter,reduce\n",
    "\n",
    "+ In 2000 implemented 2.0 version with features of datastructures like List, Tuple ,Dictionary,sets..etc\n",
    "\n",
    "+ In 2008 Republished 3.0 version with features with large no of libraries,grabagecollection And FastWork "
   ]
  },
  {
   "cell_type": "markdown",
   "metadata": {},
   "source": [
    "# Features of Python\n",
    "+ easy to learn\n",
    "+ crossplatform\n",
    "+ scalable\n",
    "+ portable\n",
    "\n"
   ]
  },
  {
   "cell_type": "code",
   "execution_count": null,
   "metadata": {},
   "outputs": [],
   "source": [
    "# KEY WORDS IN PYTHON\n",
    "\n",
    "# Key words or Rederved words in python\n",
    "\n",
    "import keyword\n",
    "dir(keyword)\n",
    "keyword.kwlist\n",
    "help()"
   ]
  },
  {
   "cell_type": "markdown",
   "metadata": {},
   "source": [
    "# Operators \n",
    " + Arthematic Operator (+,-,*,/,%,**,//)\n",
    " + Relational or Comparasion operator (>,<,<=,>=,==,!=)\n",
    " + Assingment Operator (+=,-=,*=,/=,**=,//=)\n",
    " + Logical Operator (and,or,not)\n",
    " + Bitwise Operator (&,|,^,>>,<<)\n",
    " + Membership operator\n",
    " + Indentity Operator"
   ]
  },
  {
   "cell_type": "code",
   "execution_count": null,
   "metadata": {},
   "outputs": [],
   "source": [
    "a=10\n",
    "b=20\n",
    "print(a+b)\n",
    "print(a-b)\n",
    "print(a/b)\n",
    "print(a*b)\n",
    "print(a%b)\n",
    "print(a**b)\n",
    "print(a//b)\n",
    "print(pow(a,b))"
   ]
  },
  {
   "cell_type": "code",
   "execution_count": null,
   "metadata": {},
   "outputs": [],
   "source": [
    "x=100\n",
    "y=90\n",
    "print(x>y)\n",
    "print(x<y)\n",
    "print(x==y)\n",
    "print(x!=y)"
   ]
  },
  {
   "cell_type": "code",
   "execution_count": null,
   "metadata": {},
   "outputs": [],
   "source": [
    "#Assinment operator\n",
    "\n",
    "p=10\n",
    "p+=40\n",
    "p-=30\n",
    "p*=3\n",
    "p/=3\n",
    "p//=3\n",
    "p**=5\n",
    "print(p)"
   ]
  },
  {
   "cell_type": "code",
   "execution_count": null,
   "metadata": {},
   "outputs": [],
   "source": [
    "p=10\n",
    "p+=40\n",
    "p-=30\n",
    "p*=3\n",
    "p/=3\n",
    "p//=2\n",
    "print(p)"
   ]
  },
  {
   "cell_type": "code",
   "execution_count": null,
   "metadata": {},
   "outputs": [],
   "source": [
    "#logical Operators\n",
    "#And\n",
    "print(False and False)\n",
    "print(False and True)\n",
    "print(True and False )\n",
    "print(True and True)"
   ]
  },
  {
   "cell_type": "code",
   "execution_count": null,
   "metadata": {},
   "outputs": [],
   "source": [
    "# or\n",
    "print(False or False)\n",
    "print(False or True)\n",
    "print(True or False )\n",
    "print(True or True)"
   ]
  },
  {
   "cell_type": "code",
   "execution_count": null,
   "metadata": {},
   "outputs": [],
   "source": [
    "#not\n",
    "print(not(False and False))\n",
    "print(not(False and True))\n",
    "print(not(True and False))\n",
    "print(not(True and True))"
   ]
  },
  {
   "cell_type": "code",
   "execution_count": null,
   "metadata": {},
   "outputs": [],
   "source": [
    "#not\n",
    "print(not(False or False))\n",
    "print(not(False or True))\n",
    "print(not(True or False))\n",
    "print(not(True or True))"
   ]
  },
  {
   "cell_type": "code",
   "execution_count": null,
   "metadata": {},
   "outputs": [],
   "source": [
    "bin(2)"
   ]
  },
  {
   "cell_type": "code",
   "execution_count": null,
   "metadata": {},
   "outputs": [],
   "source": [
    "oct(8)"
   ]
  },
  {
   "cell_type": "code",
   "execution_count": null,
   "metadata": {},
   "outputs": [],
   "source": [
    "#Bitwisw operators\n",
    "print(2&2)\n",
    "print(10|5)\n",
    "print(5^6)\n",
    "bin(2)\n"
   ]
  },
  {
   "cell_type": "code",
   "execution_count": null,
   "metadata": {},
   "outputs": [],
   "source": [
    "x=100\n",
    "y=10000\n",
    "print(x is y)\n",
    "print(x is not y)\n"
   ]
  },
  {
   "cell_type": "code",
   "execution_count": null,
   "metadata": {},
   "outputs": [],
   "source": [
    "a=b=c=10\n",
    "print(a)\n",
    "print(b)\n",
    "print(c)"
   ]
  },
  {
   "cell_type": "code",
   "execution_count": null,
   "metadata": {},
   "outputs": [],
   "source": [
    "a=10\n",
    "b=20\n",
    "suresh=a+b\n",
    "print(suresh)"
   ]
  },
  {
   "cell_type": "code",
   "execution_count": null,
   "metadata": {},
   "outputs": [],
   "source": [
    "a,b,c=10,20,30\n",
    "print(a)\n",
    "print(b)\n",
    "print(c)"
   ]
  },
  {
   "cell_type": "code",
   "execution_count": null,
   "metadata": {},
   "outputs": [],
   "source": [
    "#static variable\n",
    "\n",
    "a=10\n",
    "b=100\n",
    "print(a+b)"
   ]
  },
  {
   "cell_type": "code",
   "execution_count": null,
   "metadata": {},
   "outputs": [],
   "source": [
    "a=10\n",
    "b=20\n",
    "print(\"Addtion of two numbers\",a+b)\n",
    "print('Addition of',a,b,'=',a+b)\n",
    "print('Addition of %d + %d = %d'%(a,b,a+b))\n"
   ]
  },
  {
   "cell_type": "code",
   "execution_count": null,
   "metadata": {},
   "outputs": [],
   "source": [
    "x=int(input(\"Enter the x value: \"))\n",
    "y=int(input(\"Enter the y value: \"))\n",
    "print(\"Addtion of \",x + y)\n",
    "print(\"Addtion %d + %d = %d\"%(x,y,x+y))"
   ]
  },
  {
   "cell_type": "markdown",
   "metadata": {},
   "source": [
    "# Expression \n",
    "1. Take 5 inputs from user \n",
    "2. to perform operation \n",
    "3. store result in final value \n",
    "4. print final result\n"
   ]
  },
  {
   "cell_type": "code",
   "execution_count": 1,
   "metadata": {},
   "outputs": [
    {
     "name": "stdout",
     "output_type": "stream",
     "text": [
      "Enter the a value: 5\n",
      "Enter the b value: 8\n",
      "Enter the c value: 9\n",
      "Enter the d value: 6\n",
      "Enter the e value: 2\n",
      "-14.0\n"
     ]
    }
   ],
   "source": [
    "a=int(input(\"Enter the a value: \"))\n",
    "b=int(input(\"Enter the b value: \"))\n",
    "c=int(input(\"Enter the c value: \"))\n",
    "d=int(input(\"Enter the d value: \"))\n",
    "e=int(input(\"Enter the e value: \"))\n",
    "x=a+b-c*d/e\n",
    "print(x)"
   ]
  },
  {
   "cell_type": "markdown",
   "metadata": {},
   "source": [
    "# Conditonal Statements\n",
    "\n",
    "\n"
   ]
  },
  {
   "cell_type": "code",
   "execution_count": 18,
   "metadata": {},
   "outputs": [
    {
     "name": "stdout",
     "output_type": "stream",
     "text": [
      "Enter a number: 4\n",
      "4 is Even number\n"
     ]
    }
   ],
   "source": [
    "n1 = int(input(\"Enter a number: \"))\n",
    "if n1 % 2 == 0:\n",
    "    print(n1,'is Even number')\n",
    "else:\n",
    "        print(n1,'is odd number')"
   ]
  },
  {
   "cell_type": "code",
   "execution_count": 21,
   "metadata": {},
   "outputs": [
    {
     "name": "stdout",
     "output_type": "stream",
     "text": [
      "Enter a number: 5\n",
      "5 is odd number\n"
     ]
    }
   ],
   "source": [
    "n1 = int(input(\"Enter a number: \"))\n",
    "if n1 % 2 != 0:\n",
    "    print(n1,'is odd number')\n",
    "else:\n",
    "        print(n1,'is Even number')"
   ]
  },
  {
   "cell_type": "code",
   "execution_count": null,
   "metadata": {},
   "outputs": [],
   "source": [
    "#write a programme to print days\n",
    "n=int(input(\"Enter the Value: \"))\n",
    "if n==0:\n",
    "    print(\"sunday\")\n",
    "elif n==1:\n",
    "    print(\"Monday\")\n",
    "elif n==2:\n",
    "    print(\"Tuesday\")\n",
    "elif n==3:\n",
    "    print(\"Wednesday\")\n",
    "elif n==4:\n",
    "    print(\"Thursday\")\n",
    "elif n==5:\n",
    "    print(\"Friday\")\n",
    "elif n==6:\n",
    "    print(\"Saturday\")\n",
    "else:\n",
    "    print(\"No day\")\n"
   ]
  },
  {
   "cell_type": "code",
   "execution_count": 2,
   "metadata": {},
   "outputs": [
    {
     "name": "stdout",
     "output_type": "stream",
     "text": [
      "Enter a Username: sai\n",
      "Enter a Password: sai123\n",
      "Welcome sai to Python workshop\n"
     ]
    }
   ],
   "source": [
    "#write a programme to \n",
    "username = \"sai\"\n",
    "password = \"sai123\"\n",
    "username= str(input(\"Enter a Username: \"))\n",
    "password= str(input(\"Enter a Password: \"))\n",
    "if username ==\"sai\":\n",
    "    if password == \"sai123\":\n",
    "       print(\"Welcome sai to Python workshop\")\n",
    "else:\n",
    "    print(\"NO welcome\")"
   ]
  },
  {
   "cell_type": "code",
   "execution_count": 1,
   "metadata": {},
   "outputs": [
    {
     "name": "stdout",
     "output_type": "stream",
     "text": [
      "Enter the Value: 5\n",
      "Friday\n"
     ]
    }
   ],
   "source": [
    "n=int(input(\"Enter the Value: \"))\n",
    "if n==0:\n",
    "    print(\"sunday\")\n",
    "elif n==1:\n",
    "    print(\"Monday\")\n",
    "elif n==2:\n",
    "    print(\"Tuesday\")\n",
    "elif n==3:\n",
    "    print(\"Wednesday\")\n",
    "elif n==4:\n",
    "    print(\"Thursday\")\n",
    "elif n==5:\n",
    "    print(\"Friday\")\n",
    "elif n==6:\n",
    "    print(\"Saturday\")\n",
    "else:\n",
    "    print(\"No day\")\n"
   ]
  },
  {
   "cell_type": "code",
   "execution_count": 9,
   "metadata": {},
   "outputs": [
    {
     "name": "stdout",
     "output_type": "stream",
     "text": [
      "1\n",
      "3\n",
      "5\n",
      "7\n",
      "9\n"
     ]
    }
   ],
   "source": [
    "for i in range(1,10,2):\n",
    "    print(i)"
   ]
  },
  {
   "cell_type": "code",
   "execution_count": null,
   "metadata": {},
   "outputs": [],
   "source": []
  }
 ],
 "metadata": {
  "kernelspec": {
   "display_name": "Python 3",
   "language": "python",
   "name": "python3"
  },
  "language_info": {
   "codemirror_mode": {
    "name": "ipython",
    "version": 3
   },
   "file_extension": ".py",
   "mimetype": "text/x-python",
   "name": "python",
   "nbconvert_exporter": "python",
   "pygments_lexer": "ipython3",
   "version": "3.8.5"
  }
 },
 "nbformat": 4,
 "nbformat_minor": 4
}
