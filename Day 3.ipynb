{
 "cells": [
  {
   "cell_type": "markdown",
   "metadata": {},
   "source": [
    "### Today Concepts\n",
    "\n",
    "1. iterations\n",
    "    - repeat the same work for number of types\n",
    "    - for Loop:\n",
    "      - no of iterations\n",
    "    - while loop:\n",
    "       - Conditon cheak\n",
    "       \n",
    "2. jumping statementes \n",
    "3. Functions\n",
    "4. Strings\n"
   ]
  },
  {
   "cell_type": "code",
   "execution_count": null,
   "metadata": {},
   "outputs": [],
   "source": [
    "for i in range(1,10,2):\n",
    "    print(i)"
   ]
  },
  {
   "cell_type": "code",
   "execution_count": null,
   "metadata": {},
   "outputs": [],
   "source": [
    "s=int(input(\"Enter table Number: \"))\n",
    "n=int(input(\"Enter table length: \"))\n",
    "for i in range(1,n+1):\n",
    "    print('{} * {} = {}'.format(s,i,s*i))"
   ]
  },
  {
   "cell_type": "code",
   "execution_count": null,
   "metadata": {},
   "outputs": [],
   "source": [
    "# Factors of Numbers \n",
    "n = int(input(\"Enter a number \"))\n",
    "for i in range(1,n+1):\n",
    "    if n%i == 0:\n",
    "        print(i,end = ' ')"
   ]
  },
  {
   "cell_type": "code",
   "execution_count": null,
   "metadata": {},
   "outputs": [],
   "source": [
    "n = int(input(\"Enter a factorial Number: \"))\n",
    "fact=1\n",
    "for i in range(1,n+1):\n",
    "     fact*=i\n",
    "print(fact)"
   ]
  },
  {
   "cell_type": "code",
   "execution_count": null,
   "metadata": {},
   "outputs": [],
   "source": [
    "n = int(input(\"Enter a factorial Number: \"))\n",
    "fact=1\n",
    "for i in range(1,n+1):\n",
    "    fact*=i\n",
    "print(fact)"
   ]
  },
  {
   "cell_type": "code",
   "execution_count": null,
   "metadata": {},
   "outputs": [],
   "source": [
    "#while loop:\n",
    "#Syntax\n",
    "# while Condition:\n",
    "#statements\n"
   ]
  },
  {
   "cell_type": "code",
   "execution_count": null,
   "metadata": {},
   "outputs": [],
   "source": [
    "i=1\n",
    "while i<10:\n",
    "    print(i)\n",
    "    i+=1"
   ]
  },
  {
   "cell_type": "code",
   "execution_count": null,
   "metadata": {},
   "outputs": [],
   "source": [
    "i=10\n",
    "while i>0:\n",
    "    print(i)\n",
    "    i-=1"
   ]
  },
  {
   "cell_type": "code",
   "execution_count": null,
   "metadata": {},
   "outputs": [],
   "source": [
    "i=1\n",
    "while i<100:\n",
    "    i+=1\n",
    "    if i==40 or i ==50:\n",
    "        break\n",
    "    print(i,end = ' ')"
   ]
  },
  {
   "cell_type": "code",
   "execution_count": null,
   "metadata": {},
   "outputs": [],
   "source": [
    "i=1\n",
    "while i<100:\n",
    "    i+=1\n",
    "    if i==40 or i ==50:\n",
    "        continue\n",
    "    print(i,end = ' ')"
   ]
  },
  {
   "cell_type": "code",
   "execution_count": null,
   "metadata": {},
   "outputs": [],
   "source": [
    "#user define functions\n",
    "#1.function creation\n",
    "    #a.declare the function\n",
    "        #def functionName(arg):\n",
    "    #b.function defination\n",
    "        #statements\n",
    "#2.function calling\n",
    "   #by using function name we can call the function \n"
   ]
  },
  {
   "cell_type": "code",
   "execution_count": null,
   "metadata": {},
   "outputs": [],
   "source": [
    "types of functions\n",
    "\n",
    "1.user defined functions  \n",
    "2.pre defined functions\n",
    "3.special functions"
   ]
  },
  {
   "cell_type": "code",
   "execution_count": null,
   "metadata": {},
   "outputs": [],
   "source": [
    "#based on return type\n",
    "#1. without arg and without return value\n",
    "#2. without arg and with return value\n",
    "#3. with arg and without return value\n",
    "#4. with arg and with return value"
   ]
  },
  {
   "cell_type": "code",
   "execution_count": null,
   "metadata": {},
   "outputs": [],
   "source": [
    "#1. without arg and without return value\n",
    "def add():\n",
    "    num1 = int(input('Enter num1: '))\n",
    "    num2 = int(input('Enter num2: '))\n",
    "    print('sum of',num1,'and',num2,'is: ',num1+num2)\n",
    "add()"
   ]
  },
  {
   "cell_type": "code",
   "execution_count": null,
   "metadata": {},
   "outputs": [],
   "source": [
    "#2. without arg and with return value\n",
    "def sub():\n",
    "    n1 = int(input(\"Enter number: \"))\n",
    "    n2 = int(input(\"Enter number: \"))\n",
    "    print(n1+n2)\n",
    "    return n1,n2,n1 - n2\n",
    "sub()\n",
    "      "
   ]
  },
  {
   "cell_type": "code",
   "execution_count": null,
   "metadata": {},
   "outputs": [],
   "source": [
    "#3 with arg and without return value \n",
    "def add(n1,n2):\n",
    "    print(\"sum of\",n1,'and',n2,'is : ',n1+n2)\n",
    "n1 = int(input(\"Enter a value n1: \"))\n",
    "n2 = int(input(\"Enter a value n2: \"))\n",
    "add(n1,n2)"
   ]
  },
  {
   "cell_type": "code",
   "execution_count": null,
   "metadata": {},
   "outputs": [],
   "source": [
    "#With arg and with return value\n",
    "def mul(n1,n2):\n",
    "    return(n1*n2)\n",
    "n1=int(input(\"Enter a value: \"))\n",
    "n2=int(input(\"Enter a value: \"))\n",
    "mul(n1,n2)"
   ]
  },
  {
   "cell_type": "code",
   "execution_count": null,
   "metadata": {},
   "outputs": [],
   "source": [
    "### Default arguments\n",
    "def add(a=10,b=20):\n",
    "    return(a+b)\n",
    "add(50,50)"
   ]
  },
  {
   "cell_type": "code",
   "execution_count": null,
   "metadata": {},
   "outputs": [],
   "source": [
    "# variable length arg:\n",
    "def Var_len(*a,b):\n",
    "    return sum(a),b\n",
    "Var_len(4,5,6,7,8,9,3,2,b=45)"
   ]
  },
  {
   "cell_type": "code",
   "execution_count": null,
   "metadata": {},
   "outputs": [],
   "source": [
    "#Keyword argument\n",
    "def KeyWord(a,b):\n",
    "    return a*b\n",
    "KeyWord(a=5,b=7 )"
   ]
  },
  {
   "cell_type": "code",
   "execution_count": null,
   "metadata": {},
   "outputs": [],
   "source": [
    "def key(**name):\n",
    "    print(name)\n",
    "key(name = ['abc','123','hello'])"
   ]
  },
  {
   "cell_type": "code",
   "execution_count": null,
   "metadata": {},
   "outputs": [],
   "source": [
    "def Is_prime(n):\n",
    "    if n==1:\n",
    "        return False\n",
    "    cnt = 0\n",
    "    for i in range(2,n):\n",
    "        if n%i == 0:\n",
    "            cnt+=1\n",
    "            break\n",
    "    if cnt == 0:\n",
    "        return True\n",
    "    else:\n",
    "        return False\n",
    "Is_prime(11)"
   ]
  },
  {
   "cell_type": "code",
   "execution_count": null,
   "metadata": {},
   "outputs": [],
   "source": [
    "def Is_prime(n):\n",
    "    if n==0:\n",
    "        return False\n",
    "    cnt = 0\n",
    "    for i in range(1,10):\n",
    "        if n%i == 0:\n",
    "            cnt+1= 0:\n",
    "                break\n",
    "    if cnt == 0:\n",
    "        return"
   ]
  },
  {
   "cell_type": "code",
   "execution_count": 6,
   "metadata": {},
   "outputs": [
    {
     "name": "stdout",
     "output_type": "stream",
     "text": [
      "Enter start value10\n",
      "Enter end value100\n"
     ]
    },
    {
     "ename": "NameError",
     "evalue": "name 'Is_prime' is not defined",
     "output_type": "error",
     "traceback": [
      "\u001b[1;31m---------------------------------------------------------------------------\u001b[0m",
      "\u001b[1;31mNameError\u001b[0m                                 Traceback (most recent call last)",
      "\u001b[1;32m<ipython-input-6-5a982c16eb08>\u001b[0m in \u001b[0;36m<module>\u001b[1;34m\u001b[0m\n\u001b[0;32m      5\u001b[0m \u001b[0ms\u001b[0m\u001b[1;33m=\u001b[0m\u001b[0mint\u001b[0m\u001b[1;33m(\u001b[0m\u001b[0minput\u001b[0m\u001b[1;33m(\u001b[0m\u001b[1;34m\"Enter start value\"\u001b[0m\u001b[1;33m)\u001b[0m\u001b[1;33m)\u001b[0m\u001b[1;33m\u001b[0m\u001b[1;33m\u001b[0m\u001b[0m\n\u001b[0;32m      6\u001b[0m \u001b[0me\u001b[0m\u001b[1;33m=\u001b[0m\u001b[0mint\u001b[0m\u001b[1;33m(\u001b[0m\u001b[0minput\u001b[0m\u001b[1;33m(\u001b[0m\u001b[1;34m\"Enter end value\"\u001b[0m\u001b[1;33m)\u001b[0m\u001b[1;33m)\u001b[0m\u001b[1;33m\u001b[0m\u001b[1;33m\u001b[0m\u001b[0m\n\u001b[1;32m----> 7\u001b[1;33m \u001b[0mIs_prime\u001b[0m\u001b[1;33m(\u001b[0m\u001b[0ms\u001b[0m\u001b[1;33m,\u001b[0m\u001b[0me\u001b[0m\u001b[1;33m)\u001b[0m\u001b[1;33m\u001b[0m\u001b[1;33m\u001b[0m\u001b[0m\n\u001b[0m",
      "\u001b[1;31mNameError\u001b[0m: name 'Is_prime' is not defined"
     ]
    }
   ],
   "source": [
    "def prime_gen(s,e):\n",
    "    for i in range(s,e+1):\n",
    "        if Is_prime(i):\n",
    "            print(i,end = ' ')\n",
    "s=int(input(\"Enter start value\"))\n",
    "e=int(input(\"Enter end value\"))\n",
    "Is_prime(s,e)"
   ]
  },
  {
   "cell_type": "code",
   "execution_count": 7,
   "metadata": {},
   "outputs": [
    {
     "data": {
      "text/plain": [
       "True"
      ]
     },
     "execution_count": 7,
     "metadata": {},
     "output_type": "execute_result"
    }
   ],
   "source": [
    "def Is_prime(n):\n",
    "    if n==1:\n",
    "        return False\n",
    "    cnt = 0\n",
    "    for i in range(2,n):\n",
    "        if n%i == 0:\n",
    "            cnt+=1\n",
    "            break\n",
    "    if cnt == 0:\n",
    "        return True\n",
    "    else:\n",
    "        return False\n",
    "Is_prime(11)"
   ]
  },
  {
   "cell_type": "code",
   "execution_count": 10,
   "metadata": {},
   "outputs": [
    {
     "name": "stdout",
     "output_type": "stream",
     "text": [
      "Enter start value10\n",
      "Enter end value100\n",
      "11 13 17 19 23 29 31 37 41 43 47 53 59 61 67 71 73 79 83 89 97 "
     ]
    }
   ],
   "source": [
    "def prime_gen(s,e):\n",
    "    for i in range(s,e+1):\n",
    "        if Is_prime(i):\n",
    "            print(i,end = ' ')\n",
    "s=int(input(\"Enter start value\"))\n",
    "e=int(input(\"Enter end value\"))\n",
    "prime_gen(s,e)"
   ]
  },
  {
   "cell_type": "code",
   "execution_count": 14,
   "metadata": {},
   "outputs": [
    {
     "data": {
      "text/plain": [
       "False"
      ]
     },
     "execution_count": 14,
     "metadata": {},
     "output_type": "execute_result"
    }
   ],
   "source": [
    "def Is_perfect(n):\n",
    "    fc=0\n",
    "    for i in range(1,n):\n",
    "            if n%2==0:\n",
    "                fc+=i\n",
    "    if fc==n:\n",
    "        return True\n",
    "    else:\n",
    "        return False\n",
    "Is_perfect(10)\n",
    "        "
   ]
  },
  {
   "cell_type": "code",
   "execution_count": null,
   "metadata": {},
   "outputs": [],
   "source": []
  }
 ],
 "metadata": {
  "kernelspec": {
   "display_name": "Python 3",
   "language": "python",
   "name": "python3"
  }
 },
 "nbformat": 4,
 "nbformat_minor": 4
}
