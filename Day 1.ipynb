{
 "cells": [
  {
   "cell_type": "code",
   "execution_count": null,
   "metadata": {},
   "outputs": [],
   "source": []
  },
  {
   "cell_type": "markdown",
   "metadata": {},
   "source": [
    "# Bold\n",
    "*Hello*\n",
    "**Hello**\n",
    "# italic\n",
    "***Hello***\n",
    "# Both Bold and Italic\n",
    "**Hello** ***Bro***\n",
    "**On-line**\n",
    "<img src=\"https://www.google.com/imgres?imgurl=https%3A%2F%2Fwww.thehindu.com%2Fsport%2Fcricket%2Ft2zr9j%2Farticle32419273.ece%2FALTERNATES%2FLANDSCAPE_1200%2FROHITSHARMA&imgrefurl=https%3A%2F%2Fwww.thehindu.com%2Fsport%2Fcricket%2Frohit-sharma-didnt-travel-to-australia-due-to-his-fathers-illness-says-bcci%2Farticle33190817.ece&tbnid=ILasFig7NemQcM&vet=12ahUKEwiSnfqEm6XuAhVrynMBHZKcCyMQMygEegUIARDXAQ..i&docid=l6YZb9mJkxzFXM&w=1200&h=749&q=rohit&hl=en&ved=2ahUKEwiSnfqEm6XuAhVrynMBHZKcCyMQMygEegUIARDXAQ.png\">\n",
    "**Offline**\n",
    "<img src= \"suresh.png\" height>\n",
    "\n",
    "# Link\n",
    "[suresh](https:www.pubg.com)\n",
    "\n",
    "# introduction to Python\n",
    "# History of Python\n",
    "# Keywords of Reserved Words in Python\n",
    "# Operators in Python\n",
    "\n",
    "# Introduction to Python\n",
    "\n",
    "#### iN Python We have 5 Different keys\n",
    "+ high HighLevel Langauage\n",
    "+ object orenited Langauage \n",
    "+ interepeted \n",
    "+ Dyanamic Programming\n",
    "+ MUltileveln Programming language\n",
    "\n",
    "\n",
    "**Off-line**\n",
    "<img src=\"suresh.png\">"
   ]
  },
  {
   "cell_type": "code",
   "execution_count": 1,
   "metadata": {},
   "outputs": [
    {
     "data": {
      "text/plain": [
       "30"
      ]
     },
     "execution_count": 1,
     "metadata": {},
     "output_type": "execute_result"
    }
   ],
   "source": [
    "a=10\n",
    "b=20\n",
    "a+b"
   ]
  },
  {
   "cell_type": "code",
   "execution_count": 2,
   "metadata": {},
   "outputs": [
    {
     "data": {
      "text/plain": [
       "str"
      ]
     },
     "execution_count": 2,
     "metadata": {},
     "output_type": "execute_result"
    }
   ],
   "source": [
    "a=\"Helo world\"\n",
    "type(a)"
   ]
  },
  {
   "cell_type": "code",
   "execution_count": 3,
   "metadata": {},
   "outputs": [
    {
     "data": {
      "text/plain": [
       "str"
      ]
     },
     "execution_count": 3,
     "metadata": {},
     "output_type": "execute_result"
    }
   ],
   "source": [
    "a=\"10\"\n",
    "type(a)"
   ]
  },
  {
   "cell_type": "code",
   "execution_count": 5,
   "metadata": {},
   "outputs": [],
   "source": [
    "a=\"10\"\n",
    "b=int(a)"
   ]
  },
  {
   "cell_type": "code",
   "execution_count": null,
   "metadata": {},
   "outputs": [],
   "source": []
  }
 ],
 "metadata": {
  "kernelspec": {
   "display_name": "Python 3",
   "language": "python",
   "name": "python3"
  },
  "language_info": {
   "codemirror_mode": {
    "name": "ipython",
    "version": 3
   },
   "file_extension": ".py",
   "mimetype": "text/x-python",
   "name": "python",
   "nbconvert_exporter": "python",
   "pygments_lexer": "ipython3",
   "version": "3.8.5"
  }
 },
 "nbformat": 4,
 "nbformat_minor": 4
}
